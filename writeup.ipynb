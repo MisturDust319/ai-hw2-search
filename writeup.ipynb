{
 "cells": [
  {
   "cell_type": "markdown",
   "metadata": {
    "collapsed": true
   },
   "source": [
    "# AI Project 2: Solving Simple AI Problems with Breadth First Search\n",
    "### Stan Slupecki\n",
    "\n",
    "This project is meant to demonstrate how to model a problem to be solved with a breadth first search. Both demonstrations involve a \"river crossing\" problem, common introductory AI problems.\n",
    "\n",
    "## Demonstration 1: The Missionaries and Cannibals problem\n",
    "The Missionaries and Cannibals problem"
   ]
  },
  {
   "cell_type": "code",
   "execution_count": null,
   "metadata": {},
   "outputs": [],
   "source": [
    "# SETUP\n",
    "import sys\n",
    "sys.path.append('/home/nbuser/library')\n",
    "# allows notebook to include files in same folder\n",
    "\n",
    "# import the demonstration code\n",
    "from shared import *\n",
    "from missionaries_cannibals import *\n",
    "from fox_goose_beans import *"
   ]
  },
  {
   "cell_type": "code",
   "execution_count": null,
   "metadata": {},
   "outputs": [],
   "source": []
  }
 ],
 "metadata": {
  "kernelspec": {
   "display_name": "Python 2",
   "language": "python",
   "name": "python2"
  },
  "language_info": {
   "codemirror_mode": {
    "name": "ipython",
    "version": 2
   },
   "file_extension": ".py",
   "mimetype": "text/x-python",
   "name": "python",
   "nbconvert_exporter": "python",
   "pygments_lexer": "ipython2",
   "version": "2.7.6"
  }
 },
 "nbformat": 4,
 "nbformat_minor": 0
}
